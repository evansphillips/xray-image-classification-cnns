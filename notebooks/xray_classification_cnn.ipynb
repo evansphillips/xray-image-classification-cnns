{
 "cells": [
  {
   "cell_type": "code",
   "execution_count": 4,
   "metadata": {},
   "outputs": [],
   "source": [
    "# Import base modules for linear algebra and data manipulation\n",
    "import numpy as np\n",
    "import pandas as pd\n",
    "\n",
    "# Import os for file/directory navigation\n",
    "import os\n",
    "\n",
    "# Import necessary components from Keras\n",
    "from keras.models import Sequential\n",
    "from keras.layers import Dense, Conv2D, Flatten\n",
    "\n",
    "# Import modules for plotting\n",
    "import matplotlib.pyplot as plt\n",
    "import tensorflow as tf\n",
    "from typing import Tuple\n",
    "import cv2\n"
   ]
  },
  {
   "cell_type": "code",
   "execution_count": 14,
   "metadata": {},
   "outputs": [],
   "source": [
    "def load_images_from_directories(\n",
    "    norm_dir: str, pnma_dir: str, target_size: Tuple[int, int] = (224, 224)\n",
    ") -> Tuple[tf.Tensor, tf.Tensor, tf.Tensor, tf.Tensor]:\n",
    "    \"\"\"\n",
    "    Load and preprocess images from two directories and return separate image arrays as TensorFlow tensors.\n",
    "\n",
    "    Args:\n",
    "        norm_dir (str): The path to the first directory containing normal images.\n",
    "        pnma_dir (str): The path to the second directory containing pneumonia images.\n",
    "        target_size (tuple): The desired size for the loaded images (default is 224x224).\n",
    "\n",
    "    Returns:\n",
    "        tf.Tensor, tf.Tensor: TensorFlow tensors of preprocessed image data from both directories.\n",
    "    \"\"\"\n",
    "\n",
    "    def load_images_from_directory(directory: str):\n",
    "        \"\"\"\n",
    "        Load and preprocess X-ray images from a directory, and return the image data and corresponding labels as TensorFlow tensors.\n",
    "\n",
    "        Args:\n",
    "            directory (str): The path to the directory containing X-ray image files.\n",
    "\n",
    "        Returns:\n",
    "            tf.Tensor, tf.Tensor: TensorFlow tensors of preprocessed X-ray image data and corresponding labels.\n",
    "                - The image data is a TensorFlow tensor of resized X-ray images.\n",
    "                - The labels are one-hot encoded TensorFlow tensors representing the X-ray image categories:\n",
    "                    - [1, 0, 0]: X-ray images without pneumonia\n",
    "                    - [0, 1, 0]: X-ray images with bacterial pneumonia\n",
    "                    - [0, 0, 1]: X-ray images with viral pneumonia\n",
    "        \"\"\"\n",
    "        labels = []\n",
    "        image_data = []\n",
    "        for filename in os.listdir(directory):\n",
    "            if filename.lower().endswith(\".jpeg\"):\n",
    "                if \"bacteria\" in filename:\n",
    "                    labels.append([0, 1, 0])\n",
    "                elif \"virus\" in filename:\n",
    "                    labels.append([0, 0, 1])\n",
    "                else:\n",
    "                    labels.append([1, 0, 0])  # Adjust file extensions as needed\n",
    "                image_path = os.path.join(directory, filename)\n",
    "                image = cv2.imread(image_path)\n",
    "                if image is not None:\n",
    "                    # Resize the image to the desired target size (e.g., 224x224)\n",
    "                    image = cv2.resize(image, target_size)\n",
    "                    image_data.append(image)\n",
    "        return tf.convert_to_tensor(image_data, dtype=tf.uint8), tf.convert_to_tensor(labels, dtype=tf.uint8)\n",
    "\n",
    "    norm_data, norm_labels = load_images_from_directory(norm_dir)\n",
    "    pnma_data, pnma_labels = load_images_from_directory(pnma_dir)\n",
    "\n",
    "    return (norm_data, norm_labels, pnma_data, pnma_labels)\n"
   ]
  },
  {
   "cell_type": "code",
   "execution_count": 15,
   "metadata": {},
   "outputs": [],
   "source": [
    "# Create test, train, and validation image datasets\n",
    "train_image_norm_dir = r'C:\\Users\\evans\\OneDrive\\Documents\\GitHub\\pneumonia_xray_classification_cnn\\chest_xray\\train\\NORMAL'\n",
    "train_image_pnma_dir = r'C:\\Users\\evans\\OneDrive\\Documents\\GitHub\\pneumonia_xray_classification_cnn\\chest_xray\\train\\PNEUMONIA'\n",
    "\n",
    "test_image_norm_dir = r'C:\\Users\\evans\\OneDrive\\Documents\\GitHub\\pneumonia_xray_classification_cnn\\chest_xray\\test\\NORMAL'\n",
    "test_image_pnma_dir = r'C:\\Users\\evans\\OneDrive\\Documents\\GitHub\\pneumonia_xray_classification_cnn\\chest_xray\\test\\PNEUMONIA'\n",
    "\n",
    "val_image_norm_dir = r'C:\\Users\\evans\\OneDrive\\Documents\\GitHub\\pneumonia_xray_classification_cnn\\chest_xray\\val\\NORMAL'\n",
    "val_image_pnma_dir = r'C:\\Users\\evans\\OneDrive\\Documents\\GitHub\\pneumonia_xray_classification_cnn\\chest_xray\\val\\PNEUMONIA'\n",
    "\n",
    "train_data_norm, train_labels_norm, train_data_pnma, train_labels_pnma = load_images_from_directories(train_image_norm_dir, train_image_pnma_dir)\n",
    "test_data_norm, test_labels_norm, test_data_pnma, test_labels_pnma = load_images_from_directories(test_image_norm_dir, test_image_pnma_dir)\n",
    "val_data_norm, val_labels_norm, val_data_pnma, val_labels_pnma = load_images_from_directories(val_image_norm_dir, val_image_pnma_dir)"
   ]
  },
  {
   "cell_type": "code",
   "execution_count": 21,
   "metadata": {},
   "outputs": [],
   "source": [
    "# Combine Normal and Pneumonia data with labels for train, test, and validation\n",
    "train_data, train_labels = np.vstack((train_data_norm, train_data_pnma)), np.vstack((train_labels_norm, train_labels_pnma))\n",
    "test_data, test_labels = np.vstack((test_data_norm, test_data_pnma)), np.vstack((test_labels_norm, test_labels_pnma))\n",
    "val_data, val_labels = np.vstack((val_data_norm, val_data_pnma)), np.vstack((val_labels_norm, val_labels_pnma))"
   ]
  },
  {
   "cell_type": "code",
   "execution_count": 22,
   "metadata": {},
   "outputs": [
    {
     "name": "stdout",
     "output_type": "stream",
     "text": [
      "Shape of training data: (5216, 224, 224, 3), Shape of training labels: (5216, 3)\n",
      "Shape of testing data: (624, 224, 224, 3), Shape of testing labels: (624, 3)\n",
      "Shape of validation data: (16, 224, 224, 3), Shape of validation labels: (16, 3)\n"
     ]
    }
   ],
   "source": [
    "print(f\"\"\"Shape of training data: {train_data.shape}, Shape of training labels: {train_labels.shape}\n",
    "Shape of testing data: {test_data.shape}, Shape of testing labels: {test_labels.shape}\n",
    "Shape of validation data: {val_data.shape}, Shape of validation labels: {val_labels.shape}\"\"\")"
   ]
  },
  {
   "cell_type": "markdown",
   "metadata": {},
   "source": [
    "The shape of the training data and training labels matches up in terms of the number of data observations and labels for training, testing, and validation data."
   ]
  },
  {
   "cell_type": "code",
   "execution_count": 81,
   "metadata": {},
   "outputs": [
    {
     "data": {
      "image/png": "[encoded data removed]",
      "text/plain": [
       "<Figure size 640x480 with 1 Axes>"
      ]
     },
     "metadata": {},
     "output_type": "display_data"
    },
    {
     "name": "stdout",
     "output_type": "stream",
     "text": [
      "Count of normal labels: 1341\n",
      "Count of bacterial pneumonia labels: 2530\n",
      "Count of viral preumonia labels: 1345\n"
     ]
    }
   ],
   "source": [
    "def plot_label_counts(train_labels):\n",
    "    \"\"\"\n",
    "    Plot the counts of specific binary combinations ('normal', 'bacterial', 'viral') in the training labels.\n",
    "\n",
    "    Parameters:\n",
    "    train_labels (numpy.ndarray): A NumPy array of shape (n_samples, 3) representing the training labels.\n",
    "    \n",
    "    Returns:\n",
    "    None\n",
    "    \"\"\"\n",
    "    # Convert train_labels to a list of lists\n",
    "    train_labels_list = train_labels.tolist()\n",
    "\n",
    "    # Define specific binary combinations for Normal, bacterial pneumonia, and viral pneumonia\n",
    "    normal, bacterial, viral = ([1, 0, 0], [0, 1, 0], [0, 0, 1])\n",
    "\n",
    "    # Count occurrences of normal, bacterial, and viral in train_labels_list\n",
    "    normal_count = sum(1 for sub_arr in train_labels_list if sub_arr == normal)\n",
    "    bacterial_count = sum(1 for sub_arr in train_labels_list if sub_arr == bacterial)\n",
    "    viral_count = sum(1 for sub_arr in train_labels_list if sub_arr == viral)\n",
    "\n",
    "    labels = ['normal', 'bacterial', 'viral']\n",
    "    counts = [normal_count, bacterial_count, viral_count]\n",
    "\n",
    "    # Plot labels against counts for training labels\n",
    "    plt.bar(labels, counts)\n",
    "    plt.xlabel('Label')\n",
    "    plt.ylabel('Count')\n",
    "    plt.title('Plot of Training Labels Vs. Counts')\n",
    "    plt.show()\n",
    "\n",
    "    # Print the counts for each label\n",
    "    print(f\"\"\"Count of normal labels: {normal_count}\n",
    "Count of bacterial pneumonia labels: {bacterial_count}\n",
    "Count of viral preumonia labels: {viral_count}\"\"\")\n",
    "\n",
    "plot_label_counts(train_labels)"
   ]
  },
  {
   "cell_type": "markdown",
   "metadata": {},
   "source": [
    "Because these classes, are imbalanced with 1341 normal labels, 2530 bacterial pneumoina labels, 1345 viral pneumonia labels, we will randomly undersample the bacterial pneumonia labels to match the count of viral pneumonia labels. I chose viral pneumonia since it is slightly higher than bacterial but still technically gives us the most data to work with when we start modeling. "
   ]
  },
  {
   "cell_type": "markdown",
   "metadata": {},
   "source": [
    "### Randomly undersampling bacterial pneumonia labels\n",
    "---"
   ]
  },
  {
   "cell_type": "code",
   "execution_count": 76,
   "metadata": {},
   "outputs": [],
   "source": [
    "# Calculate the target count for the label you want to undersample (bacterial in this case)\n",
    "target_count = 1345\n",
    "\n",
    "# Create a mask to identify samples with the specified label\n",
    "label_mask = np.all(train_labels == bacterial, axis=1)\n",
    "\n",
    "# Randomly select samples from the specified label to match the target count\n",
    "random_indices = np.random.choice(np.where(label_mask)[0], target_count, replace=False)\n",
    "\n",
    "# Create a mask to identify samples with other labels\n",
    "others_mask = ~label_mask\n",
    "\n",
    "# Combine the indices of samples with the specified label and randomly selected samples from others\n",
    "undersampled_indices = np.concatenate((random_indices, np.where(others_mask)[0]))\n",
    "\n",
    "# Convert the list of undersampled indices to a NumPy array\n",
    "undersampled_indices = np.array(undersampled_indices)\n",
    "\n",
    "# Undersampled data and labels\n",
    "train_data_undersampled = train_data[undersampled_indices]\n",
    "train_labels_undersampled = train_labels[undersampled_indices]"
   ]
  },
  {
   "cell_type": "code",
   "execution_count": 77,
   "metadata": {},
   "outputs": [],
   "source": [
    "bacterial_count_under = sum(1 for sub_arr in train_labels_undersampled.tolist() if sub_arr == bacterial)"
   ]
  },
  {
   "cell_type": "code",
   "execution_count": 78,
   "metadata": {},
   "outputs": [
    {
     "data": {
      "text/plain": [
       "1345"
      ]
     },
     "execution_count": 78,
     "metadata": {},
     "output_type": "execute_result"
    }
   ],
   "source": [
    "bacterial_count_under"
   ]
  },
  {
   "cell_type": "code",
   "execution_count": 82,
   "metadata": {},
   "outputs": [
    {
     "data": {
      "image/png": "[encoded data removed]",
      "text/plain": [
       "<Figure size 640x480 with 1 Axes>"
      ]
     },
     "metadata": {},
     "output_type": "display_data"
    },
    {
     "name": "stdout",
     "output_type": "stream",
     "text": [
      "Count of normal labels: 1341\n",
      "Count of bacterial pneumonia labels: 1345\n",
      "Count of viral preumonia labels: 1345\n"
     ]
    }
   ],
   "source": [
    "# Let's look at the counts of our labels now\n",
    "plot_label_counts(train_labels_undersampled)"
   ]
  },
  {
   "cell_type": "markdown",
   "metadata": {},
   "source": [
    "This is much better. The distribution of our labels is near even and will provide less bias for/overfitting of our CNN models later during training."
   ]
  },
  {
   "cell_type": "code",
   "execution_count": null,
   "metadata": {},
   "outputs": [],
   "source": []
  }
 ],
 "metadata": {
  "kernelspec": {
   "display_name": "Python 3",
   "language": "python",
   "name": "python3"
  },
  "language_info": {
   "codemirror_mode": {
    "name": "ipython",
    "version": 3
   },
   "file_extension": ".py",
   "mimetype": "text/x-python",
   "name": "python",
   "nbconvert_exporter": "python",
   "pygments_lexer": "ipython3",
   "version": "3.10.11"
  },
  "orig_nbformat": 4
 },
 "nbformat": 4,
 "nbformat_minor": 2
}
